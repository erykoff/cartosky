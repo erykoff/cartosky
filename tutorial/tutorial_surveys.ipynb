{
 "cells": [
  {
   "cell_type": "markdown",
   "id": "b1ff8518",
   "metadata": {},
   "source": [
    "# Skymap Survey Classes"
   ]
  },
  {
   "cell_type": "markdown",
   "id": "6fc263f0",
   "metadata": {},
   "source": [
    "In this section, we introduce the skymap survey classes, which have the ability to plot survey outlines and have convenient preset projections and extents set."
   ]
  },
  {
   "cell_type": "code",
   "execution_count": null,
   "id": "decc8b27",
   "metadata": {},
   "outputs": [],
   "source": [
    "# Set interactive plots\n",
    "%matplotlib notebook\n",
    "\n",
    "# Import matplotlib\n",
    "import matplotlib.pyplot as plt\n",
    "\n",
    "# Import cartosky\n",
    "import cartosky"
   ]
  },
  {
   "cell_type": "markdown",
   "id": "58489b25",
   "metadata": {},
   "source": [
    "There are a number of fiducial survey outlines that are included with `cartosky`:\n",
    "* Dark Energy Survey (DES)\n",
    "* Blanco Images of the Southern Sky (BLISS)\n",
    "* Magellanic SatelLites Survey (MagLiteS)\n",
    "* DECam Legacy Survey (DECaLS)\n",
    "\n",
    "Here we show each of them in turn."
   ]
  },
  {
   "cell_type": "code",
   "execution_count": null,
   "id": "11b432e0",
   "metadata": {},
   "outputs": [],
   "source": [
    "# The default DES projection is a McBrydeSkymap.\n",
    "fig = plt.figure(1, figsize=(8, 6))\n",
    "ax = fig.add_subplot(111)\n",
    "m = cartosky.DESSkymap(ax=ax)\n",
    "m.draw_des(label='DES')\n",
    "m.legend()"
   ]
  },
  {
   "cell_type": "code",
   "execution_count": null,
   "id": "05c79108",
   "metadata": {},
   "outputs": [],
   "source": [
    "# The default BLISS projection is a McBrydeSkymap with lon_0=100.\n",
    "fig = plt.figure(2, figsize=(8, 6))\n",
    "ax = fig.add_subplot(111)\n",
    "m = cartosky.BlissSkymap(ax=ax)\n",
    "m.draw_bliss(label='BLISS')\n",
    "m.legend()"
   ]
  },
  {
   "cell_type": "code",
   "execution_count": null,
   "id": "3130cc4b",
   "metadata": {},
   "outputs": [],
   "source": [
    "# The default MagLiteS projection is an LaeaSkymap with lat_0=-90 (centered at the south pole).\n",
    "fig = plt.figure(3, figsize=(8, 6))\n",
    "ax = fig.add_subplot(111)\n",
    "m = cartosky.MaglitesSkymap(ax=ax)\n",
    "m.draw_maglites(label='MagLiteS')\n",
    "m.legend()"
   ]
  },
  {
   "cell_type": "code",
   "execution_count": null,
   "id": "c27f9df9",
   "metadata": {},
   "outputs": [],
   "source": [
    "# The default DECaLS projection is a McBrydeSkymap with lon_0=105.\n",
    "fig = plt.figure(4, figsize=(8, 6))\n",
    "ax = fig.add_subplot(111)\n",
    "m = cartosky.DecalsSkymap(ax=ax)\n",
    "m.draw_decals(label='DECaLS')\n",
    "m.legend()"
   ]
  },
  {
   "cell_type": "markdown",
   "id": "8c99c057",
   "metadata": {},
   "source": [
    "Of course, it is possible to draw more than one on a map."
   ]
  },
  {
   "cell_type": "code",
   "execution_count": null,
   "id": "34ec9bcc",
   "metadata": {},
   "outputs": [],
   "source": [
    "fig = plt.figure(5, figsize=(8, 6))\n",
    "ax = fig.add_subplot(111)\n",
    "m = cartosky.DecalsSkymap(ax=ax)\n",
    "m.draw_decals(label='DECaLS')\n",
    "m.draw_des(label='DES', edgecolor='blue')\n",
    "m.legend()"
   ]
  },
  {
   "cell_type": "code",
   "execution_count": null,
   "id": "8ecb089f",
   "metadata": {},
   "outputs": [],
   "source": []
  }
 ],
 "metadata": {
  "kernelspec": {
   "display_name": "Python 3 (ipykernel)",
   "language": "python",
   "name": "python3"
  },
  "language_info": {
   "codemirror_mode": {
    "name": "ipython",
    "version": 3
   },
   "file_extension": ".py",
   "mimetype": "text/x-python",
   "name": "python",
   "nbconvert_exporter": "python",
   "pygments_lexer": "ipython3",
   "version": "3.8.12"
  }
 },
 "nbformat": 4,
 "nbformat_minor": 5
}

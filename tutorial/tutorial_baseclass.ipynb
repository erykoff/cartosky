{
 "cells": [
  {
   "cell_type": "markdown",
   "id": "538fc3b9",
   "metadata": {},
   "source": [
    "# Skymap Base Class "
   ]
  },
  {
   "cell_type": "markdown",
   "id": "347f0f64",
   "metadata": {},
   "source": [
    "In this section we introduce `cartosky.Skymap` base class and several of its features."
   ]
  },
  {
   "cell_type": "code",
   "execution_count": null,
   "id": "8936d83f",
   "metadata": {},
   "outputs": [],
   "source": [
    "# Set interactive plots\n",
    "%matplotlib notebook\n",
    "\n",
    "# Import matplotlib\n",
    "import matplotlib.pyplot as plt\n",
    "\n",
    "# Import cartosky\n",
    "import cartosky"
   ]
  },
  {
   "cell_type": "markdown",
   "id": "80b3bad2",
   "metadata": {},
   "source": [
    "At its core, `cartosky` is a wrapper around `cartopy`, with additional features to make it suitable for looking up at the sky rather than looking down at the Earth.  \n",
    "The default projection for a `cartosky.Skymap` is the [Plate carrée](https://en.wikipedia.org/wiki/Equirectangular_projection) (literally \"flat square\") or equirectangular projection.  This projection maps longitude (right ascension) and latitude (declination) directly onto a grid.  It is neither conformal (angle preserving) or equal area, so is not particularly recommended for plotting astronomical data."
   ]
  },
  {
   "cell_type": "markdown",
   "id": "27c7280b",
   "metadata": {},
   "source": [
    "We will start by making a default sky map and plotting a few points on it.  The defaults for all `cartosky.Skymap` maps include the following:\n",
    "* Celestial orientation (right ascension increases to the left).\n",
    "* Projection is centered at 0 longitude.\n",
    "* Gridlines are on.\n",
    "* Longitude tick labels are all positive (RA from 0 to 360, rather than -180 to 180).\n",
    "* Full sky projection.\n",
    "* The cartosky plot axes will replace the current axis (via `plt.gca()`) unless a specific axis is specified.\n",
    "\n",
    "In interactive mode, the `cartosky.Skymap` objects are zoomable, and later we will see when plotting healpix or healsparse maps they are dynamically adjusting resolution."
   ]
  },
  {
   "cell_type": "code",
   "execution_count": null,
   "id": "735871d3",
   "metadata": {},
   "outputs": [],
   "source": [
    "# We can start with a simple Plate carée (``cyl``) projection.\n",
    "# Try zooming the figure!\n",
    "fig = plt.figure(1, figsize=(8, 6))\n",
    "ax = fig.add_subplot(111)\n",
    "m = cartosky.Skymap(ax=ax)\n",
    "m.plot([0, 45, -30], [0, 45, -30], 'r.')"
   ]
  },
  {
   "cell_type": "markdown",
   "id": "da43ace9",
   "metadata": {},
   "source": [
    "That is not a particularly exciting projection, of course.  There are a number of projections that are supported by `cartosky` via [PROJ](https://proj.org/).  The ones nominally supported by `cartosky` can be retrieved with the following command:"
   ]
  },
  {
   "cell_type": "code",
   "execution_count": null,
   "id": "0e5deb8d",
   "metadata": {},
   "outputs": [],
   "source": [
    "cartosky.get_available_projections()"
   ]
  },
  {
   "cell_type": "markdown",
   "id": "d290db42",
   "metadata": {},
   "source": [
    "However, the following projections are the ones that are tested and therefore going to give you the best experience.  Most of these have dedicated subclasses (that are simply thin wrappers with the shorthand names given):\n",
    "* Plate carée (`cyl`), used in `cartosky.Skymap`.\n",
    "* McBryde-Thomas Flat Polar Quartic (`mbtfpq`), used in the `cartosky.McBrydeSkymap`.\n",
    "* Hammer-Aitoff (`hammer`), used in the `cartosky.HammerSkymap`.\n",
    "* Mollweide (`moll`), used in the `cartosky.MollweideSkymap`.\n",
    "* Equal Earth (`eqearth`), used in the `cartosky.EqualEarthSkymap`.\n",
    "* Lambert Azimuthal Equal Area (`laea`), used in the `cartosky.LaeaSkymap`.  This is suitable for polar regions, and cannot project the full sky."
   ]
  },
  {
   "cell_type": "code",
   "execution_count": null,
   "id": "040d533a",
   "metadata": {},
   "outputs": [],
   "source": [
    "# Let's look at the McBryde-Thomas Flat Polar Quartic projection.\n",
    "# This is also zoomable!\n",
    "fig = plt.figure(2, figsize=(8, 6))\n",
    "fig.clf()\n",
    "ax = fig.add_subplot(111)\n",
    "m = cartosky.McBrydeSkymap(ax=ax)\n",
    "# Could also use cartosky.Skymap(ax=ax, projection_name='mbtfpq')\n",
    "m.plot([0, 45, -30], [0, 45, -30], 'r.')"
   ]
  },
  {
   "cell_type": "markdown",
   "id": "528b48fd",
   "metadata": {},
   "source": [
    "If you know you don't want to project the full sky, you can specify the extent via the extent keyword, in the order `[lon_min, lon_max, lat_min, lat_max]`.\n",
    "We will also look at how to draw a simple polygon.  All points are connected via geodesics (great circles):"
   ]
  },
  {
   "cell_type": "code",
   "execution_count": null,
   "id": "9047a098",
   "metadata": {},
   "outputs": [],
   "source": [
    "fig = plt.figure(3, figsize=(8, 6))\n",
    "fig.clf()\n",
    "ax = fig.add_subplot(111)\n",
    "m = cartosky.McBrydeSkymap(ax=ax, extent=[0, 70, 0, 70])\n",
    "m.draw_polygon_lonlat([20, 50, 50, 20], [20, 20, 50, 50])"
   ]
  },
  {
   "cell_type": "markdown",
   "id": "e4e2547c",
   "metadata": {},
   "source": [
    "When only imaging a small region of the sky (as above) you can get less distortion by adjusting the projection central longitude.  Note that while the map extent can be changed on-the-fly with zooming (or `set_extent`), the projection central longitude is fixed when the `cartosky.Skymap` is instantiated."
   ]
  },
  {
   "cell_type": "code",
   "execution_count": null,
   "id": "d4d75cbd",
   "metadata": {},
   "outputs": [],
   "source": [
    "fig = plt.figure(4, figsize=(8, 6))\n",
    "fig.clf()\n",
    "ax = fig.add_subplot(111)\n",
    "m = cartosky.McBrydeSkymap(ax=ax, extent=[0, 70, 0, 70], lon_0=35)\n",
    "m.draw_polygon_lonlat([20, 50, 50, 20], [20, 20, 50, 50])"
   ]
  },
  {
   "cell_type": "code",
   "execution_count": null,
   "id": "787a1831",
   "metadata": {},
   "outputs": [],
   "source": []
  }
 ],
 "metadata": {
  "kernelspec": {
   "display_name": "Python 3 (ipykernel)",
   "language": "python",
   "name": "python3"
  },
  "language_info": {
   "codemirror_mode": {
    "name": "ipython",
    "version": 3
   },
   "file_extension": ".py",
   "mimetype": "text/x-python",
   "name": "python",
   "nbconvert_exporter": "python",
   "pygments_lexer": "ipython3",
   "version": "3.8.12"
  }
 },
 "nbformat": 4,
 "nbformat_minor": 5
}
